{
 "cells": [
  {
   "attachments": {},
   "cell_type": "markdown",
   "metadata": {},
   "source": [
    "# Scraping Canadian Immigration Processing Times\n",
    "\n",
    "This notebook scrapes the immigration times processing page - to get the processing time for applicants applying for PR under the Economic Migration class\n",
    "\n",
    "(using Playwright)"
   ]
  },
  {
   "cell_type": "code",
   "execution_count": 1,
   "metadata": {},
   "outputs": [],
   "source": [
    "from playwright.async_api import async_playwright\n",
    "from bs4 import BeautifulSoup\n",
    "import datetime\n",
    "import json\n",
    "import csv"
   ]
  },
  {
   "cell_type": "code",
   "execution_count": 2,
   "metadata": {},
   "outputs": [],
   "source": [
    "playwright = await async_playwright().start()"
   ]
  },
  {
   "cell_type": "code",
   "execution_count": 3,
   "metadata": {},
   "outputs": [],
   "source": [
    "browser = await playwright.chromium.launch(headless = False)"
   ]
  },
  {
   "cell_type": "code",
   "execution_count": 4,
   "metadata": {},
   "outputs": [],
   "source": [
    "page = await browser.new_page()"
   ]
  },
  {
   "cell_type": "code",
   "execution_count": 5,
   "metadata": {},
   "outputs": [
    {
     "data": {
      "text/plain": [
       "<Response url='https://www.canada.ca/en/immigration-refugees-citizenship/services/application/check-processing-times.html' request=<Request url='https://www.canada.ca/en/immigration-refugees-citizenship/services/application/check-processing-times.html' method='GET'>>"
      ]
     },
     "execution_count": 5,
     "metadata": {},
     "output_type": "execute_result"
    }
   ],
   "source": [
    "await page.goto(\"https://www.canada.ca/en/immigration-refugees-citizenship/services/application/check-processing-times.html\")"
   ]
  },
  {
   "cell_type": "code",
   "execution_count": 6,
   "metadata": {},
   "outputs": [],
   "source": [
    "try: \n",
    "    await page.click(\"xpath=/html/body/aside/div/div/ul/li[2]/button\", timeout=1000)\n",
    "\n",
    "except: \n",
    "    pass\n"
   ]
  },
  {
   "cell_type": "code",
   "execution_count": 7,
   "metadata": {},
   "outputs": [
    {
     "data": {
      "text/plain": [
       "['Economic immigration\\n              ']"
      ]
     },
     "execution_count": 7,
     "metadata": {},
     "output_type": "execute_result"
    }
   ],
   "source": [
    "await page.select_option(\"select#wb-auto-23\", index=2)"
   ]
  },
  {
   "attachments": {},
   "cell_type": "markdown",
   "metadata": {},
   "source": [
    "## Get Economic Migration categories + processing times"
   ]
  },
  {
   "cell_type": "code",
   "execution_count": 8,
   "metadata": {},
   "outputs": [
    {
     "name": "stdout",
     "output_type": "stream",
     "text": [
      "{'time': '4 months', 'date_recorded': 'April 18, 2023'}\n",
      "{'time': '5 months', 'date_recorded': 'April 18, 2023'}\n",
      "{'time': '44 months', 'date_recorded': 'April 18, 2023'}\n",
      "{'time': '67 months', 'date_recorded': 'April 18, 2023'}\n",
      "{'time': '27 months', 'date_recorded': 'April 18, 2023'}\n",
      "{'time': 'Not enough data', 'date_recorded': 'April 18, 2023'}\n",
      "{'time': '20 months', 'date_recorded': 'April 18, 2023'}\n",
      "{'time': '35 months', 'date_recorded': 'April 18, 2023'}\n"
     ]
    }
   ],
   "source": [
    "for index in range(2,12):\n",
    "\n",
    "    if index == 4:\n",
    "        pass\n",
    "\n",
    "    elif index == 5:\n",
    "        pass\n",
    "    \n",
    "    else:\n",
    "\n",
    "        data = {}\n",
    "        \n",
    "        today = datetime.date.today()\n",
    "\n",
    "        await page.select_option(\"select#wb-auto-48\", index=index)\n",
    "\n",
    "        type = await page.select_option(\"select#wb-auto-48\", index=index)\n",
    "\n",
    "        type = type[0]\n",
    "\n",
    "        type = type.replace(\" \", \"_\")\n",
    "\n",
    "        await page.click(\"xpath=/html/body/main/div[1]/div[3]/div[4]/div[1]/div/form/button\")\n",
    "\n",
    "        await page.wait_for_timeout(3000)\n",
    "\n",
    "        html = await page.content()\n",
    "\n",
    "        doc = BeautifulSoup(html, 'html.parser')\n",
    "\n",
    "        time = doc.find_all('span', {'class': 'wb-init'})\n",
    "        \n",
    "        data[\"time\"] =  time[0].text \n",
    "        data[\"date_recorded\"] =  time[1].text \n",
    "\n",
    "        print(data)\n",
    "        \n",
    "        with open(f'./data/{type}.csv', 'a', newline='') as csvfile:\n",
    "            fieldnames = ['time', 'date_recorded']\n",
    "            writer = csv.DictWriter(csvfile, fieldnames=fieldnames)\n",
    "            writer.writerow(data)\n",
    "\n",
    " "
   ]
  },
  {
   "cell_type": "code",
   "execution_count": 9,
   "metadata": {},
   "outputs": [],
   "source": [
    "await browser.close()"
   ]
  }
 ],
 "metadata": {
  "kernelspec": {
   "display_name": "Python 3",
   "language": "python",
   "name": "python3"
  },
  "language_info": {
   "codemirror_mode": {
    "name": "ipython",
    "version": 3
   },
   "file_extension": ".py",
   "mimetype": "text/x-python",
   "name": "python",
   "nbconvert_exporter": "python",
   "pygments_lexer": "ipython3",
   "version": "3.11.0rc2"
  },
  "orig_nbformat": 4
 },
 "nbformat": 4,
 "nbformat_minor": 2
}
