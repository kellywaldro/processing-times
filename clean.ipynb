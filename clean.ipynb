{
 "cells": [
  {
   "cell_type": "code",
   "execution_count": 43,
   "metadata": {},
   "outputs": [],
   "source": [
    "import pandas as pd\n",
    "import  json\n",
    "from bokeh.palettes import Spectral4\n",
    "from bokeh.plotting import figure, show\n",
    "from bokeh.embed import file_html\n",
    "from bokeh.resources import CDN\n",
    "import glob"
   ]
  },
  {
   "cell_type": "code",
   "execution_count": 44,
   "metadata": {},
   "outputs": [
    {
     "name": "stdout",
     "output_type": "stream",
     "text": [
      "Atlantic_Immigration_Program.csv    Skilled_trades_(Federal).csv\n",
      "Canadian_Experience_Class.csv       Skilled_workers_(Federal).csv\n",
      "Quebec_Business_Class.csv           Skilled_workers_(Quebec).csv\n",
      "Self-employed_persons_(Federal).csv Start-up_visa.csv\n"
     ]
    }
   ],
   "source": [
    "! ls ./data\n",
    "\n"
   ]
  },
  {
   "cell_type": "code",
   "execution_count": 45,
   "metadata": {},
   "outputs": [],
   "source": [
    "categories = [\"Atlantic_Immigration_Program.csv\", \"Canadian_Experience_Class.csv\", \"Quebec_Business_Class.csv\", \"Self-employed_persons_(Federal).csv\", \"Skilled_trades_(Federal).csv\", \"Skilled_workers_(Federal).csv\", \"Start-up_visa.csv\"]"
   ]
  },
  {
   "cell_type": "code",
   "execution_count": 53,
   "metadata": {},
   "outputs": [],
   "source": [
    "csv_files = glob.glob('./data/*.csv')\n",
    "\n",
    "for file in csv_files:\n",
    "    df = pd.read_csv(file)\n",
    "\n",
    "    df = df[df['time'] != 'Not enough data']\n",
    "    \n",
    "    try:\n",
    "        df['date_recorded'] = df['date_recorded'].str.replace(',', '')\n",
    "        df['time'] = df['time'].str.replace('months', '')\n",
    "        df['time'] = df['time'].astype(int)\n",
    "        df['date_recorded'] = pd.to_datetime(df['date_recorded'], format='%B %d %Y')\n",
    "\n",
    "    except:\n",
    "        pass\n",
    "\n",
    "    # save the dataframe as a csv\n",
    "    df.to_csv(file, index=False)\n"
   ]
  },
  {
   "cell_type": "code",
   "execution_count": 54,
   "metadata": {},
   "outputs": [
    {
     "name": "stdout",
     "output_type": "stream",
     "text": [
      "   time date_recorded\n",
      "0    48    2022-10-18\n",
      "1    64    2022-11-18\n",
      "2    64    2022-12-18\n",
      "3    49    2023-01-18\n",
      "4    84    2023-02-18\n",
      "5    48    2023-03-18\n",
      "6     4    2023-04-18\n",
      "   time date_recorded\n",
      "0     5    2022-10-18\n",
      "1    10    2022-11-18\n",
      "2     5    2022-12-18\n",
      "3     8    2023-01-18\n",
      "4     4    2023-02-18\n",
      "5     5    2023-03-18\n",
      "6     5    2023-04-18\n"
     ]
    }
   ],
   "source": [
    "df1 = pd.read_csv('./data/Atlantic_Immigration_Program.csv', parse_dates=['date_recorded'])\n",
    "df2 = pd.read_csv('./data/Canadian_Experience_Class.csv', parse_dates=['date_recorded'])\n",
    "\n",
    "print(df1)\n",
    "print(df2)\n",
    "\n",
    "p = figure(width=800, height=250, x_axis_type=\"datetime\")\n",
    "p.title.text = 'Click on legend entries to mute the corresponding lines'\n",
    "\n",
    "for df, name, color in zip([df1, df2], [\"Atlantic\", \"Canadian Experience\"], Spectral4):\n",
    "    p.line(df['date_recorded'], df['time'], line_width=2, color=color, alpha=0.8,\n",
    "           muted_color=color, muted_alpha=0.2, legend_label=name)\n",
    "\n",
    "p.legend.location = \"top_left\"\n",
    "p.legend.click_policy=\"mute\"\n",
    "\n",
    "html = file_html(p, CDN, \"my plot\")\n",
    "\n",
    "# save html\n",
    "with open('plot.html', 'w') as f:\n",
    "    f.write(html)\n",
    "\n",
    "\n",
    "show(p)"
   ]
  },
  {
   "cell_type": "code",
   "execution_count": null,
   "metadata": {},
   "outputs": [],
   "source": []
  }
 ],
 "metadata": {
  "kernelspec": {
   "display_name": "Python 3",
   "language": "python",
   "name": "python3"
  },
  "language_info": {
   "codemirror_mode": {
    "name": "ipython",
    "version": 3
   },
   "file_extension": ".py",
   "mimetype": "text/x-python",
   "name": "python",
   "nbconvert_exporter": "python",
   "pygments_lexer": "ipython3",
   "version": "3.11.0rc2"
  },
  "orig_nbformat": 4
 },
 "nbformat": 4,
 "nbformat_minor": 2
}
